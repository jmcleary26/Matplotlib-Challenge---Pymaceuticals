{
 "cells": [
  {
   "cell_type": "markdown",
   "metadata": {},
   "source": [
    "## Observations and Insights "
   ]
  },
  {
   "cell_type": "markdown",
   "metadata": {},
   "source": []
  },
  {
   "cell_type": "code",
   "execution_count": null,
   "metadata": {},
   "outputs": [],
   "source": [
    "# Dependencies and Setup\n",
    "import matplotlib.pyplot as plt\n",
    "import pandas as pd\n",
    "import scipy.stats as sts\n",
    "import numpy as np\n",
    "\n",
    "# Study data files\n",
    "mouse_metadata_path = \"data/Mouse_metadata.csv\"\n",
    "study_results_path = \"data/Study_results.csv\"\n",
    "\n",
    "# Read the mouse data and the study results\n",
    "mouse_metadata = pd.read_csv(mouse_metadata_path)\n",
    "study_results = pd.read_csv(study_results_path)\n",
    "\n",
    "# Combine the data into a single dataset\n",
    "merge_df = pd.merge(mouse_metadata, study_results, how=\"outer\", on=\"Mouse ID\")\n",
    "# Display the data table for preview\n",
    "merge_df"
   ]
  },
  {
   "cell_type": "code",
   "execution_count": null,
   "metadata": {},
   "outputs": [],
   "source": [
    "# Checking the number of mice.\n",
    "number_mice = merge_df[\"Mouse ID\"].count()\n",
    "number_mice"
   ]
  },
  {
   "cell_type": "code",
   "execution_count": null,
   "metadata": {},
   "outputs": [],
   "source": [
    "# Getting the duplicate mice by ID number that shows up for Mouse ID and Timepoint. \n",
    "duplicate_mice = merge_df[merge_df.duplicated([\"Mouse ID\", \"Timepoint\"])]\n",
    "duplicate_mice"
   ]
  },
  {
   "cell_type": "code",
   "execution_count": null,
   "metadata": {
    "scrolled": false
   },
   "outputs": [],
   "source": [
    "# Optional: Get all the data for the duplicate mouse ID. \n",
    "all_duplicate_mice = merge_df[merge_df.duplicated([\"Mouse ID\",])]\n",
    "all_duplicate_mice"
   ]
  },
  {
   "cell_type": "code",
   "execution_count": null,
   "metadata": {},
   "outputs": [],
   "source": [
    "# Create a clean DataFrame by dropping the duplicate mouse by its ID.\n",
    "cleaned_df = merge_df.drop_duplicates(\"Mouse ID\")\n",
    "#cleaned_df = merge_df.drop_duplicates([\"Mouse ID\",\"Timepoint\"], keep = 'first')\n",
    "cleaned_df"
   ]
  },
  {
   "cell_type": "code",
   "execution_count": null,
   "metadata": {},
   "outputs": [],
   "source": [
    "# Checking the number of mice in the clean DataFrame.\n",
    "cleaned_df[\"Mouse ID\"].count()"
   ]
  },
  {
   "cell_type": "markdown",
   "metadata": {},
   "source": [
    "## Summary Statistics"
   ]
  },
  {
   "cell_type": "code",
   "execution_count": null,
   "metadata": {},
   "outputs": [],
   "source": [
    "# Generate a summary statistics table of mean, median, variance, standard deviation, and SEM of the tumor volume for each regimen\n",
    "\n",
    "# Use groupby and summary statistical methods to calculate the following properties of each drug regimen: \n",
    "# mean, median, variance, standard deviation, and SEM of the tumor volume. \n",
    "# Assemble the resulting series into a single summary dataframe.\n",
    "\n",
    "grouped_drugs = merge_df.groupby([\"Drug Regimen\"])\n",
    "#grouped_drugs = cleaned_df.groupby([\"Drug Regimen\"])"
   ]
  },
  {
   "cell_type": "code",
   "execution_count": null,
   "metadata": {},
   "outputs": [],
   "source": [
    "average_tumor = grouped_drugs[\"Tumor Volume (mm3)\"].mean()\n",
    "average_tumor\n",
    "median_tumor = grouped_drugs[\"Tumor Volume (mm3)\"].median()\n",
    "var_tumor = grouped_drugs[\"Tumor Volume (mm3)\"].var()\n",
    "std_tumor = grouped_drugs[\"Tumor Volume (mm3)\"].std()\n",
    "sem_tumor = grouped_drugs[\"Tumor Volume (mm3)\"].sem()\n"
   ]
  },
  {
   "cell_type": "code",
   "execution_count": null,
   "metadata": {},
   "outputs": [],
   "source": [
    "summary_stats_df = pd.DataFrame({\"Mean\": average_tumor,\n",
    "                                \"Median\": median_tumor,\n",
    "                                \"Variance\": var_tumor,\n",
    "                                \"Standard Deviation\": std_tumor,\n",
    "                                \"SEM\": sem_tumor})\n",
    "summary_stats_df"
   ]
  },
  {
   "cell_type": "code",
   "execution_count": null,
   "metadata": {},
   "outputs": [],
   "source": [
    "# Generate a summary statistics table of mean, median, variance, standard deviation, and SEM of the tumor volume for each regimen\n",
    "\n",
    "# Using the aggregation method, produce the same summary statistics in a single line\n"
   ]
  },
  {
   "cell_type": "markdown",
   "metadata": {},
   "source": [
    "## Bar and Pie Charts"
   ]
  },
  {
   "cell_type": "code",
   "execution_count": null,
   "metadata": {
    "scrolled": false
   },
   "outputs": [],
   "source": [
    "# Generate a bar plot showing the total number of measurements taken on each drug regimen using pandas.\n",
    "# drug_group = merge_df.groupby(\"Drug Regimen\")\n",
    "\n",
    "count_drugs = merge_df[\"Drug Regimen\"].value_counts()\n",
    "\n",
    "drug_chart = count_drugs.plot(kind='bar', title=\"Measurements by Drug Regimen\")\n",
    "\n",
    "drug_chart.set_xlabel(\"Drug Regimen\")\n",
    "drug_chart.set_ylabel(\"Measurements\")"
   ]
  },
  {
   "cell_type": "code",
   "execution_count": null,
   "metadata": {
    "scrolled": false
   },
   "outputs": [],
   "source": [
    "# Generate a bar plot showing the total number of measurements taken on each drug regimen using pyplot.\n",
    "drug_count = merge_df[\"Drug Regimen\"].value_counts()\n",
    "num_drugs = np.arange(len(drug_count))\n",
    "tick_locations = [value for value in num_drugs]\n",
    "\n",
    "plt.bar(num_drugs, drug_count, color = 'b', alpha=0.5, align=\"center\")\n",
    "plt.xticks(tick_locations, drug_list, rotation=\"vertical\")\n",
    "\n",
    "# Add a title\n",
    "plt.title(\"Measurements by Drug Regimen\")\n",
    "plt.xlabel(\"Drug Regimen\")\n",
    "plt.ylabel(\"Measurements\")"
   ]
  },
  {
   "cell_type": "code",
   "execution_count": null,
   "metadata": {},
   "outputs": [],
   "source": [
    "# Generate a pie plot showing the distribution of female versus male mice using pandas\n",
    "gender_counts = merge_df[\"Sex\"].value_counts()\n",
    "\n",
    "pandas_pie = gender_counts.plot(kind=\"pie\", autopct=\"%1.1f%%\")\n"
   ]
  },
  {
   "cell_type": "code",
   "execution_count": null,
   "metadata": {},
   "outputs": [],
   "source": [
    "# Generate a pie plot showing the distribution of female versus male mice using pyplot\n",
    "labels = [\"Male\", \"Female\"]\n",
    "\n",
    "sizes = merge_df[\"Sex\"].value_counts()\n",
    "\n",
    "colors = [\"blue\",\"orange\"]\n",
    "\n",
    "explode = (0,0)\n",
    "\n",
    "plt.pie(sizes, explode=explode, labels=labels, colors=colors, autopct=\"%1.1f%%\", shadow = True)\n",
    "plt.title(\"Gender Distribution\")"
   ]
  },
  {
   "cell_type": "markdown",
   "metadata": {},
   "source": [
    "## Quartiles, Outliers and Boxplots"
   ]
  },
  {
   "cell_type": "code",
   "execution_count": null,
   "metadata": {},
   "outputs": [],
   "source": [
    "# Calculate the final tumor volume of each mouse across four of the treatment regimens:  \n",
    "# Capomulin, Ramicane, Infubinol, and Ceftamin\n",
    "\n",
    "# Start by getting the last (greatest) timepoint for each mouse\n",
    "tumorvolume_groups = merge_df.groupby([\"Mouse ID\"])\n",
    "max_tumor_df = pd.DataFrame(tumorvolume_groups[\"Timepoint\"].max())\n",
    "\n",
    "max_tumor_df\n",
    "# Merge this group df with the original dataframe to get the tumor volume at the last timepoint\n",
    "\n",
    "merge2_df = pd.merge(merge_df,max_tumor_df, on=\"Mouse ID\")\n",
    "merge2_df\n",
    "\n",
    "merge2_df = merge2_df.rename(columns={\"Timepoint_y\": \"Last Timepoint\"})\n",
    "merge2_df"
   ]
  },
  {
   "cell_type": "code",
   "execution_count": null,
   "metadata": {},
   "outputs": [],
   "source": [
    "# Put treatments into a list for for loop (and later for plot labels)\n",
    "treatments = [\"Capomulin\", \"Ramicane\", \"Infubinol\", \"Ceftamin\"]\n",
    "\n",
    "# Create empty list to fill with tumor vol data (for plotting)\n",
    "volume_data = []\n",
    "\n",
    "# Calculate the IQR and quantitatively determine if there are any potential outliers. \n",
    "  \n",
    "    \n",
    "    # Locate the rows which contain mice on each drug and get the tumor volumes\n",
    "    \n",
    "for treatment in treatments:\n",
    "    \n",
    "    treatments_check = merge2_df.loc[\"Drug Regimen\"] == treatments\n",
    "    \n",
    "#     treatments_check.type()\n",
    "    last_timepoint_df = merge2_df.loc[\"Timepoint\"] == [\"Last Timepoint\"]\n",
    "    \n",
    "    volumes = last_timepoint_df[\"Tumor Volume (mmm3)\"]\n",
    "    \n",
    "    volume_data.append(volumes)\n",
    "    # add subset \n",
    "    \n",
    "    print(volume_data)\n",
    "    # Determine outliers using upper and lower bounds\n",
    "quartiles = volume_data.quantile([.25,.5,.75])\n",
    "lowerq= quartiles[0.25]\n",
    "upperq=quartiles[0.75]\n",
    "iqr = upperq-lowerq"
   ]
  },
  {
   "cell_type": "code",
   "execution_count": null,
   "metadata": {},
   "outputs": [],
   "source": [
    "# Generate a box plot of the final tumor volume of each mouse across four regimens of interest\n",
    "fig1, ax1 = plt.subplots()\n",
    "ax1.set_title(\"Final Tumor Volumes for Each Mouse by Drug Regimen\")\n",
    "ax1.set_ylabel(\"Final Tumor Volume\")\n",
    "ax1.boxplot(volume_data)\n",
    "plt.show()"
   ]
  },
  {
   "cell_type": "markdown",
   "metadata": {},
   "source": [
    "## Line and Scatter Plots"
   ]
  },
  {
   "cell_type": "code",
   "execution_count": null,
   "metadata": {},
   "outputs": [],
   "source": [
    "# Generate a line plot of tumor volume vs. time point for a mouse treated with Capomulin\n",
    "mouse_choice = merge_df[merge_df[\"Mouse ID\"] == \"s185\"]\n",
    "\n",
    "x_axis = mouse_choice[\"Timepoint\"]\n",
    "y_axis = mouse_choice[\"Tumor Volume (mm3)\"]\n",
    "\n",
    "plt.plot(x_axis, y_axis)\n",
    "plt.xlabel(\"Timepoint\")\n",
    "plt.ylabel(\"Tumor Volume (mm3)\")\n",
    "plt.title(\"Tumor Volume (mm3) over Time for Mouse s185\")"
   ]
  },
  {
   "cell_type": "code",
   "execution_count": null,
   "metadata": {
    "scrolled": false
   },
   "outputs": [],
   "source": [
    "# Generate a scatter plot of average tumor volume vs. mouse weight for the Capomulin regimen\n",
    "capomulin_regimen = merge_df[merge_df[\"Drug Regimen\"] == \"Capomulin\"]\n",
    "\n",
    "x_axis_capo = capomulin_regimen[\"Weight (g)\"]\n",
    "y_axis_capo = capomulin_regimen[\"Tumor Volume (mm3)\"].mean()\n",
    "\n",
    "plt.scatter(x_axis_capo, y_axis_capo, marker= \"o\", facecolors=\"red\", edgecolors=\"black\")"
   ]
  },
  {
   "cell_type": "markdown",
   "metadata": {},
   "source": [
    "## Correlation and Regression"
   ]
  },
  {
   "cell_type": "code",
   "execution_count": null,
   "metadata": {},
   "outputs": [],
   "source": [
    "# Calculate the correlation coefficient and linear regression model \n",
    "# for mouse weight and average tumor volume for the Capomulin regimen\n"
   ]
  },
  {
   "cell_type": "code",
   "execution_count": null,
   "metadata": {},
   "outputs": [],
   "source": []
  }
 ],
 "metadata": {
  "anaconda-cloud": {},
  "kernelspec": {
   "display_name": "Python 3",
   "language": "python",
   "name": "python3"
  },
  "language_info": {
   "codemirror_mode": {
    "name": "ipython",
    "version": 3
   },
   "file_extension": ".py",
   "mimetype": "text/x-python",
   "name": "python",
   "nbconvert_exporter": "python",
   "pygments_lexer": "ipython3",
   "version": "3.8.5"
  }
 },
 "nbformat": 4,
 "nbformat_minor": 4
}
